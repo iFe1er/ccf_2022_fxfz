{
 "cells": [
  {
   "cell_type": "code",
   "execution_count": 8,
   "id": "df59e554",
   "metadata": {},
   "outputs": [],
   "source": [
    "import pandas as pd\n",
    "import numpy as np\n",
    "import lightgbm as lgb\n",
    "from sklearn.model_selection import train_test_split\n"
   ]
  },
  {
   "cell_type": "code",
   "execution_count": 2,
   "id": "3a8ec7c9",
   "metadata": {},
   "outputs": [],
   "source": [
    "path = '../data/'\n",
    "\n",
    "dataTrain = pd.read_csv(path+'dataTrain.csv')\n",
    "dataNoLabel = pd.read_csv(path+'dataNoLabel.csv')\n",
    "dataA = pd.read_csv(path+'dataA.csv')\n",
    "submit_example_A = pd.read_csv(path+'submit_example_A.csv')"
   ]
  },
  {
   "cell_type": "code",
   "execution_count": 3,
   "id": "94bdb4cf",
   "metadata": {
    "scrolled": true
   },
   "outputs": [],
   "source": [
    "from sklearn.preprocessing import LabelEncoder\n",
    "feature_cols = dataTrain.columns[1:-1]\n",
    "lbls = {}\n",
    "for f in feature_cols:\n",
    "    lbl = LabelEncoder()\n",
    "    lbl.fit(sorted(dataTrain[f].tolist() + dataNoLabel[f].tolist() + dataA[f].tolist()))\n",
    "    lbls[f] = lbl"
   ]
  },
  {
   "cell_type": "code",
   "execution_count": 4,
   "id": "7afce278",
   "metadata": {},
   "outputs": [],
   "source": [
    "features_to_use =  feature_cols\n",
    "\n",
    "X = dataTrain[features_to_use]\n",
    "y = dataTrain['label']\n",
    "X_pred = dataA.copy()"
   ]
  },
  {
   "cell_type": "code",
   "execution_count": 5,
   "id": "fe0520d8",
   "metadata": {},
   "outputs": [
    {
     "name": "stderr",
     "output_type": "stream",
     "text": [
      "/data/services/anaconda3/envs/franky_tfgpu/lib/python3.7/site-packages/ipykernel_launcher.py:6: SettingWithCopyWarning: \n",
      "A value is trying to be set on a copy of a slice from a DataFrame.\n",
      "Try using .loc[row_indexer,col_indexer] = value instead\n",
      "\n",
      "See the caveats in the documentation: https://pandas.pydata.org/pandas-docs/stable/user_guide/indexing.html#returning-a-view-versus-a-copy\n",
      "  \n",
      "/data/services/anaconda3/envs/franky_tfgpu/lib/python3.7/site-packages/ipykernel_launcher.py:3: SettingWithCopyWarning: \n",
      "A value is trying to be set on a copy of a slice from a DataFrame.\n",
      "Try using .loc[row_indexer,col_indexer] = value instead\n",
      "\n",
      "See the caveats in the documentation: https://pandas.pydata.org/pandas-docs/stable/user_guide/indexing.html#returning-a-view-versus-a-copy\n",
      "  This is separate from the ipykernel package so we can avoid doing imports until\n"
     ]
    }
   ],
   "source": [
    "#feature mapping\n",
    "for f in features_to_use:\n",
    "    if f in ['f3']:\n",
    "        X['f3'] = X['f3'].apply(lambda x:{'low':0,'mid':1,'high':2}[x])\n",
    "        X_pred['f3'] = X_pred['f3'].apply(lambda x:{'low':0,'mid':1,'high':2}[x])\n",
    "    else:\n",
    "        X[f] = lbls[f].transform(X[f])\n",
    "        X_pred[f] = lbls[f].transform(X_pred[f])"
   ]
  },
  {
   "cell_type": "code",
   "execution_count": 13,
   "id": "8bdec61f",
   "metadata": {
    "scrolled": true
   },
   "outputs": [
    {
     "name": "stderr",
     "output_type": "stream",
     "text": [
      "/data/services/anaconda3/envs/franky_tfgpu/lib/python3.7/site-packages/lightgbm/engine.py:177: UserWarning: Found `num_iterations` in params. Will use it instead of argument\n",
      "  _log_warning(f\"Found `{alias}` in params. Will use it instead of argument\")\n",
      "/data/services/anaconda3/envs/franky_tfgpu/lib/python3.7/site-packages/lightgbm/engine.py:239: UserWarning: 'verbose_eval' argument is deprecated and will be removed in a future release of LightGBM. Pass 'log_evaluation()' callback via 'callbacks' argument instead.\n",
      "  _log_warning(\"'verbose_eval' argument is deprecated and will be removed in a future release of LightGBM. \"\n"
     ]
    },
    {
     "name": "stdout",
     "output_type": "stream",
     "text": [
      "[LightGBM] [Warning] Auto-choosing row-wise multi-threading, the overhead of testing was 0.194215 seconds.\n",
      "You can set `force_row_wise=true` to remove the overhead.\n",
      "And if memory is not enough, you can set `force_col_wise=true`.\n"
     ]
    }
   ],
   "source": [
    "#split train\n",
    "X_train, X_test, y_train, y_test = train_test_split(X, y, test_size=0.2, random_state=42)\n",
    "\n",
    "#train&test\n",
    "params = {\n",
    "            'boosting': 'gbdt',\n",
    "            'num_leaves': 15, \n",
    "            'num_iterations': 100,\n",
    "            'learning_rate': 0.1,\n",
    "            'objective': 'binary',\n",
    "            'metrics':'auc',\n",
    "            'seed': 1,\n",
    "            'verbose': 0,}\n",
    "\n",
    "lgb_train = lgb.Dataset(X_train, label=y_train)\n",
    "\n",
    "clf = lgb.train(params, lgb_train, num_round,verbose_eval=1)\n",
    "y_pred_lgb = clf.predict(X_test)"
   ]
  },
  {
   "cell_type": "code",
   "execution_count": null,
   "id": "c1000bff",
   "metadata": {},
   "outputs": [],
   "source": [
    "#predict\n",
    "y_out_lgb = clf.predict(X_pred[features_to_use])\n",
    "\n",
    "submit_example_A['label'] = y_out_lgb\n",
    "submit_example_A.to_csv('baseline_submission.csv',sep=',',index=False)"
   ]
  }
 ],
 "metadata": {
  "kernelspec": {
   "display_name": "Python 3",
   "language": "python",
   "name": "python3"
  },
  "language_info": {
   "codemirror_mode": {
    "name": "ipython",
    "version": 3
   },
   "file_extension": ".py",
   "mimetype": "text/x-python",
   "name": "python",
   "nbconvert_exporter": "python",
   "pygments_lexer": "ipython3",
   "version": "3.7.10"
  }
 },
 "nbformat": 4,
 "nbformat_minor": 5
}
